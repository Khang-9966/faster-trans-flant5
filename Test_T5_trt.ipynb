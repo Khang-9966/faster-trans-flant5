{
 "cells": [
  {
   "cell_type": "code",
   "execution_count": 1,
   "id": "76e2d88e",
   "metadata": {},
   "outputs": [],
   "source": [
    "import os\n",
    "os.environ[\"CUDA_VISIBLE_DEVICES\"]=\"0\""
   ]
  },
  {
   "cell_type": "code",
   "execution_count": 2,
   "id": "fddb442f",
   "metadata": {},
   "outputs": [],
   "source": [
    "import warnings\n",
    "warnings.filterwarnings(\"ignore\", category=DeprecationWarning) "
   ]
  },
  {
   "cell_type": "code",
   "execution_count": 3,
   "id": "4fe68cc9",
   "metadata": {},
   "outputs": [
    {
     "name": "stderr",
     "output_type": "stream",
     "text": [
      "/opt/conda/lib/python3.8/site-packages/tqdm/auto.py:22: TqdmWarning: IProgress not found. Please update jupyter and ipywidgets. See https://ipywidgets.readthedocs.io/en/stable/user_install.html\n",
      "  from .autonotebook import tqdm as notebook_tqdm\n"
     ]
    }
   ],
   "source": [
    "import configparser\n",
    "import sys\n",
    "import ctypes\n",
    "import argparse\n",
    "import math\n",
    "import numpy as np\n",
    "import tensorrt as trt\n",
    "import torch\n",
    "from datetime import datetime\n",
    "\n",
    "from transformers import PreTrainedTokenizerFast\n",
    "from transformers import T5Tokenizer, T5TokenizerFast\n",
    "\n",
    "# dir_path = os.path.dirname(os.path.realpath(__file__))\n",
    "sys.path.append(\"/..\")\n",
    "# from examples.pytorch.decoding.utils.recover_bpe import recover_bpe"
   ]
  },
  {
   "cell_type": "code",
   "execution_count": 4,
   "id": "ae736d77",
   "metadata": {},
   "outputs": [],
   "source": [
    "def recover_bpe(src):\n",
    "    dst = []\n",
    "    for line in src:\n",
    "        line = line.strip().split()\n",
    "        if line[-1] == '</s>':\n",
    "            line.pop()\n",
    "        if line[0][0] == '▁':\n",
    "            s = line[0][1:]\n",
    "        else:\n",
    "            s = line[0]\n",
    "        for w in line[1:]:\n",
    "            if w[0] == '▁':\n",
    "                s += ' ' + w[1:]\n",
    "            else:\n",
    "                s += w\n",
    "        s += '\\n'\n",
    "        dst.append(s)\n",
    "    return dst"
   ]
  },
  {
   "cell_type": "code",
   "execution_count": 5,
   "id": "799d3cc9",
   "metadata": {},
   "outputs": [],
   "source": [
    "def bleu_score(pred, ref):\n",
    "    from sacrebleu import corpus_bleu\n",
    "    bleu = corpus_bleu(pred, [ref], force=True)\n",
    "    print(\"       bleu score: {:6.2f}\".format(bleu.score))\n",
    "    print(\"       bleu counts: {}\".format(bleu.counts))\n",
    "    print(\"       bleu totals: {}\".format(bleu.totals))\n",
    "    print(\"       bleu precisions: {}\".format(bleu.precisions))\n",
    "    print(\"       bleu sys_len: {}; ref_len: {}\".format(bleu.sys_len, bleu.ref_len))\n",
    "    return bleu"
   ]
  },
  {
   "cell_type": "code",
   "execution_count": 6,
   "id": "c070a60e",
   "metadata": {},
   "outputs": [],
   "source": [
    "npToTrt = {np.int8: trt.int8, np.float16: trt.float16, np.int32: trt.int32, np.float32: trt.float32}\n",
    "npToPFT = {np.int8: trt.PluginFieldType.INT8, np.float16: trt.PluginFieldType.FLOAT16, np.int32: trt.PluginFieldType.INT32, np.float32: trt.PluginFieldType.FLOAT32}\n",
    "npToTorch = {np.dtype('float16'): torch.float16, np.dtype('int32'): torch.int32, np.dtype('float32'): torch.float32}\n",
    "device = 0\n",
    "\n",
    "# global variables with default value\n",
    "globalNMaxBatchSize = 128\n",
    "globalNMaxSeqLen = 512\n",
    "globalNBeamSize = 4\n",
    "globalNUseFP16 = 0\n",
    "\n",
    "globalNSM = (lambda x: x[0] * 10 + x[1])(torch.cuda.get_device_capability())\n",
    "\n",
    "globalFBeamDiversity = 0.0\n",
    "globalFTemperature = 1.0\n",
    "globalFLenPenalty = 0.0\n",
    "globalFRepPenalty = 1.0\n",
    "\n",
    "nMinBatchSize = 1\n",
    "nOptBatchSize = globalNMaxBatchSize\n",
    "nMaxBatchSize = globalNMaxBatchSize\n",
    "nMinSeqLen = 1\n",
    "nOptSeqLen = globalNMaxSeqLen\n",
    "nMaxSeqLen = globalNMaxSeqLen"
   ]
  },
  {
   "cell_type": "code",
   "execution_count": 7,
   "id": "5828eda7",
   "metadata": {},
   "outputs": [],
   "source": [
    "def getT5EncoderPlugin(arg):\n",
    "    nBatchSize = arg['batch_size']\n",
    "    nMaxSeqLen = arg['max_seq_len']\n",
    "    nBeamSize = arg['beam_width'],\n",
    "    nSM = globalNSM\n",
    "    useFP16 = int(arg['data_type'] == 'fp16')\n",
    "    ckpt_path = arg['ckpt_path'].encode()\n",
    "    for c in trt.get_plugin_registry().plugin_creator_list:\n",
    "        if c.name == 'T5EncoderPlugin':\n",
    "            pList = [\n",
    "                trt.PluginField('max_batch_size', np.int32(nBatchSize), npToPFT[np.int32]),\n",
    "                trt.PluginField('max_seq_len', np.int32(nMaxSeqLen), npToPFT[np.int32]),\n",
    "                trt.PluginField('beam_width', np.int32(nBeamSize), npToPFT[np.int32]),\n",
    "                trt.PluginField('sm', np.int32(nSM), npToPFT[np.int32]),\n",
    "                trt.PluginField('useFP16', np.int32(useFP16), npToPFT[np.int32]),\n",
    "                trt.PluginField('ckpt_path', ckpt_path, trt.PluginFieldType.CHAR),\n",
    "            ]\n",
    "            return c.create_plugin(c.name, trt.PluginFieldCollection(pList))\n",
    "    return None"
   ]
  },
  {
   "cell_type": "code",
   "execution_count": 8,
   "id": "052ee811",
   "metadata": {},
   "outputs": [],
   "source": [
    "def getT5DecodingPlugin(arg):\n",
    "    nBatchSize = arg['batch_size']\n",
    "    nMaxSeqLen = arg['max_seq_len']\n",
    "    nMemMaxSeqLen = arg['max_seq_len']\n",
    "    nBeamSize = arg['beam_width']\n",
    "    useFP16 = int(arg['data_type'] == 'fp16')\n",
    "    ckpt_path = arg['ckpt_path'].encode()\n",
    "    for c in trt.get_plugin_registry().plugin_creator_list:\n",
    "        if c.name == 'T5DecodingPlugin':\n",
    "            pList = [\n",
    "                trt.PluginField('max_batch_size', np.int32(nBatchSize), npToPFT[np.int32]),\n",
    "                trt.PluginField('max_seq_len', np.int32(nMaxSeqLen), npToPFT[np.int32]),\n",
    "                trt.PluginField('mem_max_seq_len', np.int32(nMaxSeqLen), npToPFT[np.int32]),\n",
    "                trt.PluginField('beam_width', np.int32(nBeamSize), npToPFT[np.int32]),\n",
    "                trt.PluginField('useFP16', np.int32(useFP16), npToPFT[np.int32]),\n",
    "                trt.PluginField('ckpt_path', ckpt_path, trt.PluginFieldType.CHAR),\n",
    "            ]\n",
    "            return c.create_plugin(c.name, trt.PluginFieldCollection(pList))\n",
    "    return None"
   ]
  },
  {
   "cell_type": "code",
   "execution_count": 9,
   "id": "9d666ccf",
   "metadata": {},
   "outputs": [],
   "source": [
    "def buildEngine(logger, arg, trtFileName):\n",
    "    builder = trt.Builder(logger)\n",
    "    network = builder.create_network(1)\n",
    "    profile = builder.create_optimization_profile()\n",
    "    config = builder.create_builder_config()\n",
    "    config.max_workspace_size = 1 << 30\n",
    "    config.flags = int(arg['data_type'] == 'fp16')\n",
    "\n",
    "    inputT0 = network.add_input('inputId', npToTrt[np.int32], [-1, -1])\n",
    "    inputT1 = network.add_input('inputSeqLen', npToTrt[np.int32], [-1])\n",
    "    inputT2 = network.add_input('inputTopK', npToTrt[np.int32], [-1])\n",
    "    inputT3 = network.add_input('inputTopP', npToTrt[np.int32], [-1])\n",
    "    inputT4 = network.add_input('inputBeam_search_diversity_rate', npToTrt[np.float32], [-1])\n",
    "    inputT5 = network.add_input('inputTemperature', npToTrt[np.float32], [-1])\n",
    "    inputT6 = network.add_input('inputLen_penalty', npToTrt[np.float32], [-1])\n",
    "    inputT7 = network.add_input('inputRepetition_penalty', npToTrt[np.float32], [-1])\n",
    "\n",
    "    profile.set_shape(inputT0.name, [nMinBatchSize, nMinSeqLen], [nOptBatchSize, nOptSeqLen], [nMaxBatchSize, nMaxSeqLen])\n",
    "    profile.set_shape(inputT1.name, [nMinBatchSize], [nOptBatchSize], [nMaxBatchSize])\n",
    "    profile.set_shape(inputT2.name, [1], [nOptBatchSize], [nMaxBatchSize])\n",
    "    profile.set_shape(inputT3.name, [1], [nOptBatchSize], [nMaxBatchSize])\n",
    "    profile.set_shape(inputT4.name, [1], [nOptBatchSize], [nMaxBatchSize])\n",
    "    profile.set_shape(inputT5.name, [1], [nOptBatchSize], [nMaxBatchSize])\n",
    "    profile.set_shape(inputT6.name, [1], [nOptBatchSize], [nMaxBatchSize])\n",
    "    profile.set_shape(inputT7.name, [1], [nOptBatchSize], [nMaxBatchSize])\n",
    "    config.add_optimization_profile(profile)\n",
    "\n",
    "    model_config = configparser.ConfigParser()\n",
    "    model_config_path = os.path.join(arg[\"ckpt_path\"], 'config.ini')\n",
    "    if os.path.isfile(model_config_path):\n",
    "        model_config.read(model_config_path)\n",
    "\n",
    "    encoderPlugin = getT5EncoderPlugin(arg)\n",
    "    decodingPlugin = getT5DecodingPlugin(arg)\n",
    "    if encoderPlugin == None:\n",
    "        print(\"Failed making encoder plugin!\")\n",
    "        return None\n",
    "    if decodingPlugin == None:\n",
    "        print(\"Failed making decoding plugin!\")\n",
    "        return None\n",
    "\n",
    "    encoderLayer = network.add_plugin_v2([inputT0, inputT1], encoderPlugin)\n",
    "    decodingLayer = network.add_plugin_v2([encoderLayer.get_output(0), inputT1, inputT2, inputT3, inputT4, inputT5, inputT6, inputT7], decodingPlugin)\n",
    "    decodingLayer.get_output(0).name = \"decodingOutput0\"\n",
    "    decodingLayer.get_output(1).name = \"decodingOutput1\"\n",
    "    decodingLayer.get_output(0).dtype = npToTrt[np.int32]\n",
    "    decodingLayer.get_output(1).dtype = npToTrt[np.int32]\n",
    "\n",
    "    network.mark_output(decodingLayer.get_output(0))\n",
    "    network.mark_output(decodingLayer.get_output(1))\n",
    "\n",
    "    engineString = builder.build_serialized_network(network, config)\n",
    "    if engineString == None:\n",
    "        print(\"Failed getting serialized engine!\")\n",
    "        return None\n",
    "    print(\"Succeeded getting serialized engine!\")\n",
    "    with open(trtFileName, \"wb\") as f:\n",
    "        f.write(engineString)\n",
    "        print(\"Succeeded saving .plan file!\")\n",
    "    engine = trt.Runtime(logger).deserialize_cuda_engine(engineString)\n",
    "    return engine"
   ]
  },
  {
   "cell_type": "code",
   "execution_count": 10,
   "id": "9087a996",
   "metadata": {},
   "outputs": [],
   "source": [
    "def testone(arg, stream, input_text):\n",
    "    useFP16 = int(arg['data_type'] == 'fp16')\n",
    "\n",
    "    nBatchSize = arg['batch_size']\n",
    "    nSeqLen = arg['max_seq_len']\n",
    "    testCase = \"<fp%s,bs=%d,sl=%d>\" % (['32', '16'][useFP16], nBatchSize, nSeqLen)\n",
    "    print(\"Test both Encoder and Decoding\", testCase)\n",
    "    logger = trt.Logger(trt.Logger.ERROR)\n",
    "    trt.init_libnvinfer_plugins(logger, '')\n",
    " \n",
    "    ctypes.cdll.LoadLibrary(arg['lib_path'])\n",
    "\n",
    "    trtFile = 'T5Engine-fp' + ['32', '16'][useFP16] + '.plan'\n",
    "\n",
    "    if os.path.isfile(trtFile):\n",
    "        with open(trtFile, 'rb') as f:\n",
    "            engineString = f.read()\n",
    "            engine = trt.Runtime(logger).deserialize_cuda_engine(engineString)\n",
    "        if engine == None:\n",
    "            print(\"Failed loading engine!\")\n",
    "            return\n",
    "        print(\"Succeeded loading engine!\")\n",
    "    else:\n",
    "        engine = buildEngine(logger, arg, trtFile)\n",
    "\n",
    "    context = engine.create_execution_context()\n",
    "    nInput = np.sum([engine.binding_is_input(i) for i in range(engine.num_bindings)])\n",
    "    nOutput = engine.num_bindings - nInput\n",
    "#     for i in range(engine.num_bindings):\n",
    "#         print(\"Bind[%2d]:i[%d]->\"%(i,i) if engine.binding_is_input(i) else \"Bind[%2d]:o[%d]->\"%(i,i-nInput),\n",
    "#                engine.get_binding_dtype(i),engine.get_binding_shape(i),context.get_binding_shape(i),engine.get_binding_name(i))\n",
    "\n",
    "    tokenizer = T5Tokenizer.from_pretrained(arg['model'])\n",
    "    fast_tokenizer = T5TokenizerFast.from_pretrained(arg['model'])\n",
    "\n",
    "#     with open(arg['source'], 'r') as f:\n",
    "#         src_text = recover_bpe(f.readlines())\n",
    "#         src_text = [\"translate English to German: \" + line.strip() for line in src_text]\n",
    "\n",
    "#     with open(arg['target'], 'r') as f:\n",
    "#         tgt_text = recover_bpe(f.readlines())\n",
    "\n",
    "#     sys.stdout.flush()\n",
    "\n",
    "    outputId = []\n",
    "    outputSeqLen = []\n",
    "    prev = 0\n",
    "    needWarmUp = True\n",
    "    torch.cuda.synchronize()\n",
    "    start_time = datetime.now()\n",
    "\n",
    "    input_texts = input_text\n",
    "\n",
    "\n",
    "    input_token = tokenizer(input_texts, return_tensors='pt', padding=False)\n",
    "\n",
    "    inputId = np.ascontiguousarray(input_token['input_ids'].numpy().astype(np.int32))\n",
    "    inputMask = np.ascontiguousarray(np.sum(input_token['attention_mask'].numpy(), 1).astype(np.int32))\n",
    "    nRealBatchSize, nRealSeqLen = np.shape(inputId)\n",
    "\n",
    "    context.set_binding_shape(0, [nRealBatchSize, nRealSeqLen])\n",
    "    context.set_binding_shape(1, [nRealBatchSize])\n",
    "    context.set_binding_shape(2, [nRealBatchSize])\n",
    "    context.set_binding_shape(3, [nRealBatchSize])\n",
    "    context.set_binding_shape(4, [nRealBatchSize])\n",
    "    context.set_binding_shape(5, [nRealBatchSize])\n",
    "    context.set_binding_shape(6, [nRealBatchSize])\n",
    "    context.set_binding_shape(7, [nRealBatchSize])\n",
    "\n",
    "    inputTopK = np.full([nRealBatchSize], arg['sampling_topk'], dtype=np.int32)\n",
    "    inputTopP = np.full([nRealBatchSize], arg['sampling_topp'], dtype=np.float32)\n",
    "\n",
    "    inputFBeamDiversity = np.full([nRealBatchSize], globalFBeamDiversity, dtype=np.float32)\n",
    "    inputFTemperature = np.full([nRealBatchSize], globalFTemperature, dtype=np.float32)\n",
    "    inputFLenPenalty = np.full([nRealBatchSize], globalFLenPenalty, dtype=np.float32)\n",
    "    inputFRepPenalty = np.full([nRealBatchSize], globalFRepPenalty, dtype=np.float32)\n",
    "\n",
    "    bufferD = []\n",
    "    bufferD.append(torch.from_numpy(inputId).to(device))\n",
    "    bufferD.append(torch.from_numpy(inputMask).to(device))\n",
    "    bufferD.append(torch.from_numpy(inputTopK).to(device))\n",
    "    bufferD.append(torch.from_numpy(inputTopP).to(device))\n",
    "    bufferD.append(torch.from_numpy(inputFBeamDiversity).to(device))\n",
    "    bufferD.append(torch.from_numpy(inputFTemperature).to(device))\n",
    "    bufferD.append(torch.from_numpy(inputFLenPenalty).to(device))\n",
    "    bufferD.append(torch.from_numpy(inputFRepPenalty).to(device))\n",
    "    bufferD.append(torch.empty(tuple(context.get_binding_shape(8)), dtype=torch.int32, device=device))\n",
    "    bufferD.append(torch.empty(tuple(context.get_binding_shape(9)), dtype=torch.int32, device=device))\n",
    "    torch.cuda.synchronize()\n",
    "\n",
    "\n",
    "    context.execute_async_v2([b.data_ptr() for b in bufferD], stream)\n",
    "\n",
    "    torch.cuda.synchronize()\n",
    "\n",
    "    outputId.append(bufferD[nInput + 0].cpu().numpy())\n",
    "    outputSeqLen.append(bufferD[nInput + 1].cpu().numpy())\n",
    "    \n",
    "\n",
    "    stop_time = datetime.now()\n",
    "    execution_time = (stop_time - start_time).total_seconds()\n",
    "\n",
    "    outputText = []\n",
    "    for batch_token, batch_seq_len in zip(outputId, outputSeqLen):\n",
    "        for j in range(len(batch_token)):\n",
    "            outputText.append(fast_tokenizer.decode(batch_token[j][0][:batch_seq_len[j][0]], skip_special_tokens=True))\n",
    "    \n",
    "    print(outputText)"
   ]
  },
  {
   "cell_type": "code",
   "execution_count": 11,
   "id": "77a45f30",
   "metadata": {},
   "outputs": [],
   "source": [
    "np.set_printoptions(precision=4, linewidth=200, suppress=True)"
   ]
  },
  {
   "cell_type": "code",
   "execution_count": 12,
   "id": "ea3774d1",
   "metadata": {},
   "outputs": [],
   "source": [
    "torch.cuda.set_device(device)"
   ]
  },
  {
   "cell_type": "code",
   "execution_count": 13,
   "id": "24ee84bb",
   "metadata": {},
   "outputs": [],
   "source": [
    "stream = 0\n",
    "# os.system('rm -f ./*.plan ./*.in')\n",
    "# parser = argparse.ArgumentParser(formatter_class=argparse.ArgumentDefaultsHelpFormatter)\n",
    "# parser.add_argument('-batch', '--batch_size', type=int, metavar='NUMBER', default=32, help='batch size (default: 32)')\n",
    "# parser.add_argument('-beam', '--beam_width', type=int, metavar='NUMBER', default=4, help='beam width (default: 4)')\n",
    "# parser.add_argument('-s', '--max_seq_len', type=int, metavar='NUMBER', default=128, help='max sequence length (default: 200)')\n",
    "# parser.add_argument('--source', type=str, metavar='STRING', default=\"../examples/pytorch/decoding/utils/translation/test.en\", help=\"Path to the source file.\")\n",
    "# parser.add_argument('--target', type=str, metavar='STRING', default=\"../examples/pytorch/decoding/utils/translation/test.de\", help=\"Path to the target file.\")\n",
    "# parser.add_argument('-diversity_rate', '--beam_search_diversity_rate', type=float, metavar='NUMBER', default=0.0, help='deviersity rate of beam search. default is 0. When diversity rate = 0, it is equivalent to the naive beam search.')\n",
    "# parser.add_argument('-topk', '--sampling_topk', type=int, metavar='NUMBER', default=4, help='Candidate (k) value of top k sampling in decoding. Default is 1.')\n",
    "# parser.add_argument('-topp', '--sampling_topp', type=float, metavar='NUMBER', default=0.0, help='Probability (p) value of top p sampling in decoding. Default is 0.0. ')\n",
    "# parser.add_argument('-d', '--data_type', type=str, metavar='STRING', default=\"fp32\", help='data type (default: fp32)', choices=['fp32', 'fp16'])\n",
    "# parser.add_argument('-lib_path', '--lib_path', type=str, metavar='STRING', default=\"lib/libtrt_t5.so\", help='the path of FasterTransformer pytorch t5 op library.')\n",
    "# parser.add_argument('-model', '--model', type=str, metavar='STRING', default=\"t5-small\", help='T5 model size.', choices=[\"t5-small\", \"t5-base\", \"t5-large\", \"t5-3b\", \"t5-11b\"])\n",
    "# parser.add_argument(            '--ckpt_path',      type=str, metavar='STRING', help='path to the checkpoint file.')\n",
    "# parser.add_argument('-max_ite', '--max_iteration',  type=int,   metavar='NUMBER',   default=100000,     help='Maximum iteraiton for translation, default is 100000 (as large as possible to run all test set).')\n",
    "# parser.add_argument('--ft_BLEU_threshold', type=float, help='Threshold of FT BLEU score')"
   ]
  },
  {
   "cell_type": "code",
   "execution_count": 14,
   "id": "3937de9e",
   "metadata": {},
   "outputs": [],
   "source": [
    "arg = {}\n",
    "arg[\"batch_size\"] = 1\n",
    "arg[\"beam_width\"] = 4\n",
    "arg[\"max_seq_len\"] = globalNMaxSeqLen\n",
    "arg[\"source\"] = \"../examples/pytorch/decoding/utils/translation/test.en\"\n",
    "arg[\"target\"] = \"../examples/pytorch/decoding/utils/translation/test.de\"\n",
    "arg[\"beam_search_diversity_rate\"] = 0.0\n",
    "arg[\"sampling_topk\"] = 10\n",
    "arg[\"sampling_topp\"] = 0.0\n",
    "arg[\"data_type\"] = \"fp32\"\n",
    "arg[\"lib_path\"] = \"lib/libtrt_t5.so\"\n",
    "arg[\"model\"] = \"../qa-t5-large\"\n",
    "arg[\"ckpt_path\"] = \"./ft_t5_large/1-gpu\"\n",
    "# arg[\"model\"] = \"t5-large\"\n",
    "# arg[\"ckpt_path\"] = \"./ft_t5_small/1-gpu\"\n",
    "arg[\"max_iteration\"] = 100000\n",
    "# arg[\"ft_BLEU_threshold\"] = "
   ]
  },
  {
   "cell_type": "code",
   "execution_count": 15,
   "id": "2ef05329",
   "metadata": {},
   "outputs": [],
   "source": [
    "input_text = \"\"\"### Instruction: Tạo 5 câu hỏi và trả lời cho đoạn văn này.:\n",
    "Ngăn ngừa ung thư\n",
    "Chất lycopene trong dưa hấu có thể làm giảm mức độ phát triển của ung thư. Vì đây là chất chống oxy hóa mạnh mẽ nên có tác dụng ngăn ngừa sự tấn công của một số căn bệnh ung thư.\n",
    "Ngoài ra lycopene đặc biệt hữu ích trong điều trị nhiễm trùng HPV - nguyên nhân gây ra ung thư cổ tử cung ở phái nữ. Sử dụng một chén dưa hấu tương đương với hai cốc chứa khoảng 20 miligam lycopene để mang lại hiệu quả tối ưu.\n",
    "Có thể giúp giảm đau nhức cơ bắp\n",
    "Đây là loại trái cây có nhiều chất điện giải và axit amin citrulline mang lại tác dụng giúp làm dịu cơ bắp bị đau sau khi tập luyện nặng. Theo một nghiên cứu từ Iran, thành phần citrulline trong dưa hấu có thể giúp giảm đau nhức, mỏi cơ bắp nhờ vào đẩy nhanh quá trình loại bỏ axit lactic. Bên cạnh đó uống nhiều nước ép dưa hấu giúp cơ bắp của bạn nhận được nhiều oxy hơn góp phần hỗ trợ phục hồi được nhanh hơn.\n",
    "Hỗ trợ tiêu hóa\n",
    "Dưa hấu là một trong những loại thực phẩm tác dụng hỗ trợ cho hệ tiêu hóa khỏe mạnh nhờ vào hàm lượng nước trong loại hoa quả này. Dưa hấu còn chứa chất xơ thúc đẩy quá trình tiêu hóa và ngăn ngừa táo bón hiệu quả.\n",
    "### Response: \"\"\""
   ]
  },
  {
   "cell_type": "code",
   "execution_count": 16,
   "id": "503f9dc5",
   "metadata": {},
   "outputs": [],
   "source": [
    "# input_text = 'Translate to German: hello my name is Khang.'"
   ]
  },
  {
   "cell_type": "code",
   "execution_count": 17,
   "id": "dfcd8bcd",
   "metadata": {},
   "outputs": [
    {
     "name": "stdout",
     "output_type": "stream",
     "text": [
      "### Instruction: Tạo 5 câu hỏi và trả lời cho đoạn văn này.:\n",
      "Ngăn ngừa ung thư\n",
      "Chất lycopene trong dưa hấu có thể làm giảm mức độ phát triển của ung thư. Vì đây là chất chống oxy hóa mạnh mẽ nên có tác dụng ngăn ngừa sự tấn công của một số căn bệnh ung thư.\n",
      "Ngoài ra lycopene đặc biệt hữu ích trong điều trị nhiễm trùng HPV - nguyên nhân gây ra ung thư cổ tử cung ở phái nữ. Sử dụng một chén dưa hấu tương đương với hai cốc chứa khoảng 20 miligam lycopene để mang lại hiệu quả tối ưu.\n",
      "Có thể giúp giảm đau nhức cơ bắp\n",
      "Đây là loại trái cây có nhiều chất điện giải và axit amin citrulline mang lại tác dụng giúp làm dịu cơ bắp bị đau sau khi tập luyện nặng. Theo một nghiên cứu từ Iran, thành phần citrulline trong dưa hấu có thể giúp giảm đau nhức, mỏi cơ bắp nhờ vào đẩy nhanh quá trình loại bỏ axit lactic. Bên cạnh đó uống nhiều nước ép dưa hấu giúp cơ bắp của bạn nhận được nhiều oxy hơn góp phần hỗ trợ phục hồi được nhanh hơn.\n",
      "Hỗ trợ tiêu hóa\n",
      "Dưa hấu là một trong những loại thực phẩm tác dụng hỗ trợ cho hệ tiêu hóa khỏe mạnh nhờ vào hàm lượng nước trong loại hoa quả này. Dưa hấu còn chứa chất xơ thúc đẩy quá trình tiêu hóa và ngăn ngừa táo bón hiệu quả.\n",
      "### Response: \n"
     ]
    }
   ],
   "source": [
    "print(input_text)"
   ]
  },
  {
   "cell_type": "code",
   "execution_count": 18,
   "id": "c6182b36",
   "metadata": {},
   "outputs": [
    {
     "name": "stdout",
     "output_type": "stream",
     "text": [
      "Test finish!\n"
     ]
    }
   ],
   "source": [
    "# testone(arg, stream, input_text)\n",
    "print(\"Test finish!\")"
   ]
  },
  {
   "cell_type": "code",
   "execution_count": 19,
   "id": "ac7c8145",
   "metadata": {},
   "outputs": [],
   "source": [
    "# !./bin/t5_gemm 1 4 128 1024 16 64 2816 1024 16 64 2816 106612 0 1 0"
   ]
  },
  {
   "cell_type": "markdown",
   "id": "c65451c9",
   "metadata": {},
   "source": [
    "# Test trt"
   ]
  },
  {
   "cell_type": "code",
   "execution_count": 20,
   "id": "d0ab9b29",
   "metadata": {
    "scrolled": true
   },
   "outputs": [
    {
     "name": "stdout",
     "output_type": "stream",
     "text": [
      "Test both Encoder and Decoding <fp32,bs=1,sl=512>\n",
      "Succeeded getting serialized engine!\n",
      "Succeeded saving .plan file!\n"
     ]
    }
   ],
   "source": [
    "useFP16 = int(arg['data_type'] == 'fp16')\n",
    "\n",
    "nBatchSize = arg['batch_size']\n",
    "nSeqLen = arg['max_seq_len']\n",
    "testCase = \"<fp%s,bs=%d,sl=%d>\" % (['32', '16'][useFP16], nBatchSize, nSeqLen)\n",
    "print(\"Test both Encoder and Decoding\", testCase)\n",
    "logger = trt.Logger(trt.Logger.ERROR)\n",
    "trt.init_libnvinfer_plugins(logger, '')\n",
    "\n",
    "ctypes.cdll.LoadLibrary(arg['lib_path'])\n",
    "\n",
    "trtFile = 'T5Engine-fp' + ['32', '16'][useFP16] + '.plan'\n",
    "\n",
    "if os.path.isfile(trtFile):\n",
    "    with open(trtFile, 'rb') as f:\n",
    "        engineString = f.read()\n",
    "        engine = trt.Runtime(logger).deserialize_cuda_engine(engineString)\n",
    "    if engine == None:\n",
    "        print(\"Failed loading engine!\")\n",
    "    print(\"Succeeded loading engine!\")\n",
    "else:\n",
    "    engine = buildEngine(logger, arg, trtFile)"
   ]
  },
  {
   "cell_type": "code",
   "execution_count": 21,
   "id": "33be15a8",
   "metadata": {},
   "outputs": [],
   "source": [
    "fast_tokenizer = T5TokenizerFast.from_pretrained(arg['model'])"
   ]
  },
  {
   "cell_type": "code",
   "execution_count": 22,
   "id": "066a8fae",
   "metadata": {},
   "outputs": [],
   "source": [
    "tokenizer = T5Tokenizer.from_pretrained(arg['model'])"
   ]
  },
  {
   "cell_type": "code",
   "execution_count": 23,
   "id": "a4936963",
   "metadata": {},
   "outputs": [],
   "source": [
    "context = engine.create_execution_context()\n",
    "nInput = np.sum([engine.binding_is_input(i) for i in range(engine.num_bindings)])\n",
    "nOutput = engine.num_bindings - nInput"
   ]
  },
  {
   "cell_type": "code",
   "execution_count": 27,
   "id": "b6f315c7",
   "metadata": {},
   "outputs": [],
   "source": [
    "input_text = \"\"\"### Instruction: Tạo 5 câu hỏi và trả lời cho đoạn văn này.:\n",
    "Tại sự kiện, người cao tuổi được đo mức loãng xương, huyết áp để có những phán đoán chính xác về tình trạng sức khỏe. Dựa trên kết quả thăm khám, các bác sĩ của Viện Nghiên cứu Dinh dưỡng TP.HCM (NRI) đưa ra lời khuyên bổ ích để giúp các cụ xây dựng chế độ dinh dưỡng phù hợp hơn, từ đó có thể tự chủ động chăm sóc bản thân, sống vui khỏe bên gia đình và bạn bè.\n",
    "Värna tổ chức tư vấn sức khỏe và dinh dưỡng cho 1.000 người cao tuổi - 2\n",
    "Nhận được tư vấn rất hữu ích, cụ Nguyễn Hoàng Diệu (70 tuổi) cho biết: “Bình thường, tôi không kiểm tra sức khỏe nên lúc đo và phát hiện bị loãng xương, tôi rất bất ngờ và cảm thấy lo lắng lắm. Tuy nhiên, nhờ sự giải thích và trấn an từ các bác sĩ, tôi đã an tâm phần nào. Những thay đổi nhỏ trong khẩu phần ăn sẽ cải thiện tình hình của tôi”.\n",
    "### Response: \"\"\""
   ]
  },
  {
   "cell_type": "code",
   "execution_count": 28,
   "id": "2bb7d3d3",
   "metadata": {},
   "outputs": [
    {
     "name": "stdout",
     "output_type": "stream",
     "text": [
      "torch.Size([1, 231])\n",
      "512\n",
      "160.3901490375338\n",
      "-Câu hỏi 1: Người cao tuổi đã trải qua hoạt động tư vấn sức khỏe và dinh dưỡng như thế nào?, -Trả lời 1: Người cao tuổi đã trải qua hoạt động tư vấn sức khỏe và dinh dưỡng dựa trên kết quả thăm khám và tư vấn dinh dưỡng dựa trên kết quả thăm khám để xây dựng chế độ dinh dưỡng phù hợp, từ đó có thể tự chủ động chăm sóc bản thân, sống vui khỏe bên gia đình và bạn bè. -Câu hỏi 2: Người cao tuổi đã trải qua hoạt động tư vấn sức khỏe và dinh dưỡng như thế nào?, -Trả lời 2: Người cao tuổi đã trải qua hoạt động tư vấn sức khỏe và dinh dưỡng dựa trên kết quả thăm khám và tư vấn dinh dưỡng để xây dựng chế độ dinh dưỡng phù hợp, từ đó có thể tự chủ động chăm sóc bản thân, sống vui khỏe bên gia đình và bạn bè, đồng thời giúp xây dựng chế độ dinh dưỡng phù hợp để tự chủ động chăm sóc bản thân, sống vui khỏe bên gia đình và bạn bè, cũng như cải thiện tình trạng sức khỏe của họ. -Câu hỏi 3: Người cao tuổi đã trải qua hoạt động tư vấn sức khỏe và dinh dưỡng như thế nào?, -Trả lời 3: Người cao tuổi đã trải qua hoạt động tư vấn sức khỏe và dinh dưỡng dựa trên kết quả thăm khám và tư vấn dinh dưỡng để xây dựng chế độ dinh dưỡng phù hợp, từ đó có thể tự chủ động chăm sóc bản thân, sống vui khỏe bên gia đình và bạn bè, đồng thời giúp xây dựng chế độ dinh dưỡng phù hợp để tự chủ động chăm sóc bản thân, sống vui khỏe bên gia đình và bạn bè, đồng thời hỗ trợ chế độ dinh dưỡng phù hợp để tự chủ động chăm sóc bản thân, sống vui khỏe bên gia đình và bạn bè trong cuộc sống và cuộc sống của họ trong gia đình và cộng đồng, đồng thời cải thiện tình trạng sức khỏe của họ trong gia đình và cộng đồng, đồng thời giúp cải thiện tình trạng sức khỏe của họ trong gia đình và cộng đồng, đồng thời cải thiện tình trạng sức khỏe của bản thân và cộng đồng xung quanh họ hơn trong xã hội và môi trường sống xung quanh họ và gia đình bạn bè của họ trong xã hội hiện đại hơn và đảm bảo sức khỏe cho bản thân và gia đình của họ trong xã hội hiện đại hơn. -Câu hỏi 4: Người cao tuổi đã trải qua hoạt động tư vấn sức khỏe và dinh dưỡng như thế nào?, -Trả lời 4: Người cao tuổi đã trải qua hoạt động tư vấn\n",
      "==============================\n",
      "512\n",
      "160.3901490375338\n",
      "-Câu hỏi 1: Người cao tuổi đã trải qua hoạt động tư vấn sức khỏe và dinh dưỡng như thế nào?, -Trả lời 1: Người cao tuổi đã trải qua hoạt động tư vấn sức khỏe và dinh dưỡng dựa trên kết quả thăm khám và tư vấn dinh dưỡng dựa trên kết quả thăm khám để xây dựng chế độ dinh dưỡng phù hợp, từ đó có thể tự chủ động chăm sóc bản thân, sống vui khỏe bên gia đình và bạn bè. -Câu hỏi 2: Người cao tuổi đã trải qua hoạt động tư vấn sức khỏe và dinh dưỡng như thế nào?, -Trả lời 2: Người cao tuổi đã trải qua hoạt động tư vấn sức khỏe và dinh dưỡng dựa trên kết quả thăm khám và tư vấn dinh dưỡng để xây dựng chế độ dinh dưỡng phù hợp, từ đó có thể tự chủ động chăm sóc bản thân, sống vui khỏe bên gia đình và bạn bè, đồng thời giúp xây dựng chế độ dinh dưỡng phù hợp để tự chủ động chăm sóc bản thân, sống vui khỏe bên gia đình và bạn bè, cũng như cải thiện tình trạng sức khỏe của họ. -Câu hỏi 3: Người cao tuổi đã trải qua hoạt động tư vấn sức khỏe và dinh dưỡng như thế nào?, -Trả lời 3: Người cao tuổi đã trải qua hoạt động tư vấn sức khỏe và dinh dưỡng dựa trên kết quả thăm khám và tư vấn dinh dưỡng để xây dựng chế độ dinh dưỡng phù hợp, từ đó có thể tự chủ động chăm sóc bản thân, sống vui khỏe bên gia đình và bạn bè, đồng thời giúp xây dựng chế độ dinh dưỡng phù hợp để tự chủ động chăm sóc bản thân, sống vui khỏe bên gia đình và bạn bè, đồng thời hỗ trợ chế độ dinh dưỡng phù hợp để tự chủ động chăm sóc bản thân, sống vui khỏe bên gia đình và bạn bè trong cuộc sống và cuộc sống của họ trong gia đình và cộng đồng, đồng thời cải thiện tình trạng sức khỏe của họ trong gia đình và cộng đồng, đồng thời giúp cải thiện tình trạng sức khỏe của họ trong gia đình và cộng đồng, đồng thời cải thiện tình trạng sức khỏe của bản thân và cộng đồng xung quanh họ hơn trong xã hội và môi trường sống xung quanh họ và gia đình bạn bè của họ trong xã hội hiện đại hơn và đảm bảo sức khỏe cho bản thân và gia đình của họ trong xã hội hiện đại hơn. -Câu hỏi 4: Người cao tuổi đã trải qua hoạt động tư vấn sức khỏe và dinh dưỡng như thế nào?, -Trả lời 4: Người cao tuổi đã trải qua hoạt động Tư vấn\n",
      "==============================\n",
      "512\n",
      "160.3901490375338\n",
      "-Câu hỏi 1: Người cao tuổi đã trải qua hoạt động tư vấn sức khỏe và dinh dưỡng như thế nào?, -Trả lời 1: Người cao tuổi đã trải qua hoạt động tư vấn sức khỏe và dinh dưỡng dựa trên kết quả thăm khám và tư vấn dinh dưỡng dựa trên kết quả thăm khám để xây dựng chế độ dinh dưỡng phù hợp, từ đó có thể tự chủ động chăm sóc bản thân, sống vui khỏe bên gia đình và bạn bè. -Câu hỏi 2: Người cao tuổi đã trải qua hoạt động tư vấn sức khỏe và dinh dưỡng như thế nào?, -Trả lời 2: Người cao tuổi đã trải qua hoạt động tư vấn sức khỏe và dinh dưỡng dựa trên kết quả thăm khám và tư vấn dinh dưỡng để xây dựng chế độ dinh dưỡng phù hợp, từ đó có thể tự chủ động chăm sóc bản thân, sống vui khỏe bên gia đình và bạn bè, đồng thời giúp xây dựng chế độ dinh dưỡng phù hợp để tự chủ động chăm sóc bản thân, sống vui khỏe bên gia đình và bạn bè, cũng như cải thiện tình trạng sức khỏe của họ. -Câu hỏi 3: Người cao tuổi đã trải qua hoạt động tư vấn sức khỏe và dinh dưỡng như thế nào?, -Trả lời 3: Người cao tuổi đã trải qua hoạt động tư vấn sức khỏe và dinh dưỡng dựa trên kết quả thăm khám và tư vấn dinh dưỡng để xây dựng chế độ dinh dưỡng phù hợp, từ đó có thể tự chủ động chăm sóc bản thân, sống vui khỏe bên gia đình và bạn bè, đồng thời giúp xây dựng chế độ dinh dưỡng phù hợp để tự chủ động chăm sóc bản thân, sống vui khỏe bên gia đình và bạn bè, đồng thời hỗ trợ chế độ dinh dưỡng phù hợp để tự chủ động chăm sóc bản thân, sống vui khỏe bên gia đình và bạn bè trong cuộc sống và cuộc sống của họ trong gia đình và cộng đồng, đồng thời cải thiện tình trạng sức khỏe của họ trong gia đình và cộng đồng, đồng thời giúp cải thiện tình trạng sức khỏe của họ trong gia đình và cộng đồng, đồng thời cải thiện tình trạng sức khỏe của bản thân và cộng đồng xung quanh họ hơn trong xã hội và môi trường sống xung quanh họ và gia đình bạn bè của họ trong xã hội hiện đại hơn và đảm bảo sức khỏe cho bản thân và gia đình của họ trong xã hội hiện đại hơn. -Câu hỏi 4: Người cao tuổi đã trải qua hoạt động tư vấn sức khỏe và dinh dưỡng như thế nào?, -Trả lời 4: Người cao tuổi đã trải qua hoạt động thăm khám\n",
      "==============================\n",
      "512\n",
      "160.3901490375338\n",
      "-Câu hỏi 1: Người cao tuổi đã trải qua hoạt động tư vấn sức khỏe và dinh dưỡng như thế nào?, -Trả lời 1: Người cao tuổi đã trải qua hoạt động tư vấn sức khỏe và dinh dưỡng dựa trên kết quả thăm khám và tư vấn dinh dưỡng dựa trên kết quả thăm khám để xây dựng chế độ dinh dưỡng phù hợp, từ đó có thể tự chủ động chăm sóc bản thân, sống vui khỏe bên gia đình và bạn bè. -Câu hỏi 2: Người cao tuổi đã trải qua hoạt động tư vấn sức khỏe và dinh dưỡng như thế nào?, -Trả lời 2: Người cao tuổi đã trải qua hoạt động tư vấn sức khỏe và dinh dưỡng dựa trên kết quả thăm khám và tư vấn dinh dưỡng để xây dựng chế độ dinh dưỡng phù hợp, từ đó có thể tự chủ động chăm sóc bản thân, sống vui khỏe bên gia đình và bạn bè, đồng thời giúp xây dựng chế độ dinh dưỡng phù hợp để tự chủ động chăm sóc bản thân, sống vui khỏe bên gia đình và bạn bè, cũng như cải thiện tình trạng sức khỏe của họ. -Câu hỏi 3: Người cao tuổi đã trải qua hoạt động tư vấn sức khỏe và dinh dưỡng như thế nào?, -Trả lời 3: Người cao tuổi đã trải qua hoạt động tư vấn sức khỏe và dinh dưỡng dựa trên kết quả thăm khám và tư vấn dinh dưỡng để xây dựng chế độ dinh dưỡng phù hợp, từ đó có thể tự chủ động chăm sóc bản thân, sống vui khỏe bên gia đình và bạn bè, đồng thời giúp xây dựng chế độ dinh dưỡng phù hợp để tự chủ động chăm sóc bản thân, sống vui khỏe bên gia đình và bạn bè, đồng thời hỗ trợ chế độ dinh dưỡng phù hợp để tự chủ động chăm sóc bản thân, sống vui khỏe bên gia đình và bạn bè trong cuộc sống và cuộc sống của họ trong gia đình và cộng đồng, đồng thời cải thiện tình trạng sức khỏe của họ trong gia đình và cộng đồng, đồng thời giúp cải thiện tình trạng sức khỏe của họ trong gia đình và cộng đồng, đồng thời cải thiện tình trạng sức khỏe của bản thân và cộng đồng xung quanh họ hơn trong xã hội và môi trường sống xung quanh họ và gia đình bạn bè của họ trong xã hội hiện đại hơn và đảm bảo sức khỏe cho bản thân và gia đình của họ trong xã hội hiện đại hơn. -Câu hỏi 4: Người cao tuổi đã trải qua hoạt động tư vấn sức khỏe và dinh dưỡng như thế nào?, -Trả lời 4: Người cao tuổi đã trải qua hoạt động tư định\n",
      "==============================\n"
     ]
    }
   ],
   "source": [
    "outputId = []\n",
    "outputSeqLen = []\n",
    "\n",
    "torch.cuda.synchronize()\n",
    "start_time = datetime.now()\n",
    "\n",
    "input_texts = input_text\n",
    "\n",
    "input_token = tokenizer(input_texts, return_tensors='pt', padding=False, max_length=globalNMaxSeqLen, truncation=True)\n",
    "print(input_token['input_ids'].shape)\n",
    "inputId = np.ascontiguousarray(input_token['input_ids'].numpy().astype(np.int32))\n",
    "inputMask = np.ascontiguousarray(np.sum(input_token['attention_mask'].numpy(), 1).astype(np.int32))\n",
    "nRealBatchSize, nRealSeqLen = np.shape(inputId)\n",
    "\n",
    "context.set_binding_shape(0, [nRealBatchSize, nRealSeqLen])\n",
    "context.set_binding_shape(1, [nRealBatchSize])\n",
    "context.set_binding_shape(2, [nRealBatchSize])\n",
    "context.set_binding_shape(3, [nRealBatchSize])\n",
    "context.set_binding_shape(4, [nRealBatchSize])\n",
    "context.set_binding_shape(5, [nRealBatchSize])\n",
    "context.set_binding_shape(6, [nRealBatchSize])\n",
    "context.set_binding_shape(7, [nRealBatchSize])\n",
    "\n",
    "inputTopK = np.full([nRealBatchSize], arg['sampling_topk'], dtype=np.int32)\n",
    "inputTopP = np.full([nRealBatchSize], arg['sampling_topp'], dtype=np.float32)\n",
    "\n",
    "inputFBeamDiversity = np.full([nRealBatchSize], globalFBeamDiversity, dtype=np.float32)\n",
    "inputFTemperature = np.full([nRealBatchSize], globalFTemperature, dtype=np.float32)\n",
    "inputFLenPenalty = np.full([nRealBatchSize], globalFLenPenalty, dtype=np.float32)\n",
    "inputFRepPenalty = np.full([nRealBatchSize], globalFRepPenalty, dtype=np.float32)\n",
    "\n",
    "bufferD = []\n",
    "bufferD.append(torch.from_numpy(inputId).to(device))\n",
    "bufferD.append(torch.from_numpy(inputMask).to(device))\n",
    "bufferD.append(torch.from_numpy(inputTopK).to(device))\n",
    "bufferD.append(torch.from_numpy(inputTopP).to(device))\n",
    "bufferD.append(torch.from_numpy(inputFBeamDiversity).to(device))\n",
    "bufferD.append(torch.from_numpy(inputFTemperature).to(device))\n",
    "bufferD.append(torch.from_numpy(inputFLenPenalty).to(device))\n",
    "bufferD.append(torch.from_numpy(inputFRepPenalty).to(device))\n",
    "bufferD.append(torch.empty(tuple(context.get_binding_shape(8)), dtype=torch.int32, device=device))\n",
    "bufferD.append(torch.empty(tuple(context.get_binding_shape(9)), dtype=torch.int32, device=device))\n",
    "torch.cuda.synchronize()\n",
    "\n",
    "context.execute_async_v2([b.data_ptr() for b in bufferD], stream)\n",
    "\n",
    "torch.cuda.synchronize()\n",
    "\n",
    "outputId.append(bufferD[nInput + 0].cpu().numpy())\n",
    "outputSeqLen.append(bufferD[nInput + 1].cpu().numpy())\n",
    "\n",
    "\n",
    "stop_time = datetime.now()\n",
    "execution_time = (stop_time - start_time).total_seconds()\n",
    "\n",
    "outputText = []\n",
    "for batch_token, batch_seq_len in zip(outputId, outputSeqLen):\n",
    "    for j in range(len(batch_token)):\n",
    "        for beam_index in range(arg[\"beam_width\"]):\n",
    "            outputText.append(fast_tokenizer.decode(batch_token[j][beam_index][:batch_seq_len[j][beam_index]], skip_special_tokens=True))\n",
    "            print(batch_token[j][beam_index][:batch_seq_len[j][beam_index]].shape[0])\n",
    "            print(batch_token[j][beam_index][:batch_seq_len[j][beam_index]].shape[0]/execution_time)\n",
    "            print(outputText[-1])\n",
    "            print(\"=\"*30)"
   ]
  },
  {
   "cell_type": "code",
   "execution_count": 26,
   "id": "9bc1aa1a",
   "metadata": {},
   "outputs": [
    {
     "data": {
      "text/plain": [
       "3.159864"
      ]
     },
     "execution_count": 26,
     "metadata": {},
     "output_type": "execute_result"
    }
   ],
   "source": [
    "execution_time"
   ]
  },
  {
   "cell_type": "code",
   "execution_count": null,
   "id": "d7359871",
   "metadata": {},
   "outputs": [],
   "source": []
  },
  {
   "cell_type": "code",
   "execution_count": null,
   "id": "d4ab4cbe",
   "metadata": {},
   "outputs": [],
   "source": []
  },
  {
   "cell_type": "code",
   "execution_count": null,
   "id": "2d76f0ee",
   "metadata": {},
   "outputs": [],
   "source": []
  },
  {
   "cell_type": "code",
   "execution_count": null,
   "id": "89a1b584",
   "metadata": {},
   "outputs": [],
   "source": []
  },
  {
   "cell_type": "code",
   "execution_count": null,
   "id": "dda73c7c",
   "metadata": {},
   "outputs": [],
   "source": []
  },
  {
   "cell_type": "code",
   "execution_count": null,
   "id": "296df94a",
   "metadata": {},
   "outputs": [],
   "source": []
  },
  {
   "cell_type": "code",
   "execution_count": null,
   "id": "fc96a761",
   "metadata": {},
   "outputs": [],
   "source": []
  },
  {
   "cell_type": "code",
   "execution_count": null,
   "id": "2a4b412c",
   "metadata": {},
   "outputs": [],
   "source": []
  },
  {
   "cell_type": "code",
   "execution_count": null,
   "id": "2831ad48",
   "metadata": {},
   "outputs": [],
   "source": []
  },
  {
   "cell_type": "code",
   "execution_count": null,
   "id": "adad2a49",
   "metadata": {},
   "outputs": [],
   "source": []
  },
  {
   "cell_type": "code",
   "execution_count": null,
   "id": "a10d6cac",
   "metadata": {},
   "outputs": [],
   "source": []
  },
  {
   "cell_type": "code",
   "execution_count": null,
   "id": "421435c5",
   "metadata": {},
   "outputs": [],
   "source": []
  },
  {
   "cell_type": "code",
   "execution_count": null,
   "id": "948165a8",
   "metadata": {},
   "outputs": [],
   "source": []
  },
  {
   "cell_type": "code",
   "execution_count": null,
   "id": "41f706c9",
   "metadata": {},
   "outputs": [],
   "source": []
  },
  {
   "cell_type": "code",
   "execution_count": null,
   "id": "6cb2c806",
   "metadata": {},
   "outputs": [],
   "source": []
  },
  {
   "cell_type": "code",
   "execution_count": null,
   "id": "8106e9b6",
   "metadata": {},
   "outputs": [],
   "source": []
  },
  {
   "cell_type": "code",
   "execution_count": null,
   "id": "d6aa3c53",
   "metadata": {},
   "outputs": [],
   "source": []
  },
  {
   "cell_type": "code",
   "execution_count": null,
   "id": "a85c978f",
   "metadata": {},
   "outputs": [],
   "source": []
  },
  {
   "cell_type": "code",
   "execution_count": null,
   "id": "fb16c0df",
   "metadata": {},
   "outputs": [],
   "source": []
  },
  {
   "cell_type": "code",
   "execution_count": null,
   "id": "3b79d545",
   "metadata": {},
   "outputs": [],
   "source": []
  },
  {
   "cell_type": "code",
   "execution_count": null,
   "id": "8dbf9f90",
   "metadata": {},
   "outputs": [],
   "source": []
  },
  {
   "cell_type": "code",
   "execution_count": null,
   "id": "52f63ca0",
   "metadata": {},
   "outputs": [],
   "source": []
  },
  {
   "cell_type": "code",
   "execution_count": null,
   "id": "027d27b8",
   "metadata": {},
   "outputs": [],
   "source": []
  }
 ],
 "metadata": {
  "kernelspec": {
   "display_name": "Python 3 (ipykernel)",
   "language": "python",
   "name": "python3"
  },
  "language_info": {
   "codemirror_mode": {
    "name": "ipython",
    "version": 3
   },
   "file_extension": ".py",
   "mimetype": "text/x-python",
   "name": "python",
   "nbconvert_exporter": "python",
   "pygments_lexer": "ipython3",
   "version": "3.8.13"
  }
 },
 "nbformat": 4,
 "nbformat_minor": 5
}
